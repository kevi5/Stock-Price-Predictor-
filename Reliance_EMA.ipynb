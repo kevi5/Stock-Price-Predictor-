{
 "cells": [
  {
   "cell_type": "code",
   "execution_count": 19,
   "metadata": {},
   "outputs": [
    {
     "data": {
      "text/plain": [
       "<module 'data_evaluation' from 'c:\\\\Users\\\\vivek\\\\Documents\\\\project\\\\data_evaluation.py'>"
      ]
     },
     "execution_count": 19,
     "metadata": {},
     "output_type": "execute_result"
    }
   ],
   "source": [
    "import data_preprocess as dp\n",
    "import functions as f\n",
    "import data_evaluation as l\n",
    "import matplotlib.pyplot as plt\n",
    "from sklearn.model_selection import train_test_split\n",
    "from importlib import reload\n",
    "import pandas as pd\n",
    "import numpy as np\n",
    "reload(dp)\n",
    "reload(f)\n",
    "reload(l)"
   ]
  },
  {
   "cell_type": "code",
   "execution_count": 20,
   "metadata": {},
   "outputs": [
    {
     "name": "stdout",
     "output_type": "stream",
     "text": [
      "<class 'pandas.core.frame.DataFrame'>\n",
      "DatetimeIndex: 1728 entries, 2015-01-01 to 2021-12-31\n",
      "Data columns (total 7 columns):\n",
      " #   Column     Non-Null Count  Dtype  \n",
      "---  ------     --------------  -----  \n",
      " 0   High       1728 non-null   float64\n",
      " 1   Low        1728 non-null   float64\n",
      " 2   Open       1728 non-null   float64\n",
      " 3   Close      1728 non-null   float64\n",
      " 4   Volume     1728 non-null   float64\n",
      " 5   Adj Close  1728 non-null   float64\n",
      " 6   x0         1728 non-null   float64\n",
      "dtypes: float64(7)\n",
      "memory usage: 108.0 KB\n"
     ]
    },
    {
     "data": {
      "text/html": [
       "<div>\n",
       "<style scoped>\n",
       "    .dataframe tbody tr th:only-of-type {\n",
       "        vertical-align: middle;\n",
       "    }\n",
       "\n",
       "    .dataframe tbody tr th {\n",
       "        vertical-align: top;\n",
       "    }\n",
       "\n",
       "    .dataframe thead th {\n",
       "        text-align: right;\n",
       "    }\n",
       "</style>\n",
       "<table border=\"1\" class=\"dataframe\">\n",
       "  <thead>\n",
       "    <tr style=\"text-align: right;\">\n",
       "      <th></th>\n",
       "      <th>High</th>\n",
       "      <th>Low</th>\n",
       "      <th>Open</th>\n",
       "      <th>Close</th>\n",
       "      <th>Volume</th>\n",
       "      <th>Adj Close</th>\n",
       "      <th>x0</th>\n",
       "    </tr>\n",
       "    <tr>\n",
       "      <th>Date</th>\n",
       "      <th></th>\n",
       "      <th></th>\n",
       "      <th></th>\n",
       "      <th></th>\n",
       "      <th></th>\n",
       "      <th></th>\n",
       "      <th></th>\n",
       "    </tr>\n",
       "  </thead>\n",
       "  <tbody>\n",
       "    <tr>\n",
       "      <th>2015-01-01</th>\n",
       "      <td>441.812073</td>\n",
       "      <td>437.676270</td>\n",
       "      <td>438.988831</td>\n",
       "      <td>439.781311</td>\n",
       "      <td>1367720.0</td>\n",
       "      <td>419.247314</td>\n",
       "      <td>1.0</td>\n",
       "    </tr>\n",
       "    <tr>\n",
       "      <th>2015-01-02</th>\n",
       "      <td>443.818054</td>\n",
       "      <td>437.998199</td>\n",
       "      <td>439.880371</td>\n",
       "      <td>438.617340</td>\n",
       "      <td>3383424.0</td>\n",
       "      <td>418.137756</td>\n",
       "      <td>1.0</td>\n",
       "    </tr>\n",
       "    <tr>\n",
       "      <th>2015-01-05</th>\n",
       "      <td>441.267212</td>\n",
       "      <td>432.946106</td>\n",
       "      <td>438.344940</td>\n",
       "      <td>433.812897</td>\n",
       "      <td>4662967.0</td>\n",
       "      <td>413.557617</td>\n",
       "      <td>1.0</td>\n",
       "    </tr>\n",
       "    <tr>\n",
       "      <th>2015-01-06</th>\n",
       "      <td>432.401276</td>\n",
       "      <td>412.093750</td>\n",
       "      <td>430.915344</td>\n",
       "      <td>414.124512</td>\n",
       "      <td>8596809.0</td>\n",
       "      <td>394.788513</td>\n",
       "      <td>1.0</td>\n",
       "    </tr>\n",
       "    <tr>\n",
       "      <th>2015-01-07</th>\n",
       "      <td>425.367950</td>\n",
       "      <td>414.570282</td>\n",
       "      <td>414.619812</td>\n",
       "      <td>423.139069</td>\n",
       "      <td>9562421.0</td>\n",
       "      <td>403.382172</td>\n",
       "      <td>1.0</td>\n",
       "    </tr>\n",
       "  </tbody>\n",
       "</table>\n",
       "</div>"
      ],
      "text/plain": [
       "                  High         Low        Open       Close     Volume  \\\n",
       "Date                                                                    \n",
       "2015-01-01  441.812073  437.676270  438.988831  439.781311  1367720.0   \n",
       "2015-01-02  443.818054  437.998199  439.880371  438.617340  3383424.0   \n",
       "2015-01-05  441.267212  432.946106  438.344940  433.812897  4662967.0   \n",
       "2015-01-06  432.401276  412.093750  430.915344  414.124512  8596809.0   \n",
       "2015-01-07  425.367950  414.570282  414.619812  423.139069  9562421.0   \n",
       "\n",
       "             Adj Close   x0  \n",
       "Date                         \n",
       "2015-01-01  419.247314  1.0  \n",
       "2015-01-02  418.137756  1.0  \n",
       "2015-01-05  413.557617  1.0  \n",
       "2015-01-06  394.788513  1.0  \n",
       "2015-01-07  403.382172  1.0  "
      ]
     },
     "execution_count": 20,
     "metadata": {},
     "output_type": "execute_result"
    }
   ],
   "source": [
    "df=dp.get_data()\n",
    "df1=df.copy()\n",
    "df1=dp.min_max(df1)\n",
    "df.info()\n",
    "df.head()"
   ]
  },
  {
   "cell_type": "code",
   "execution_count": 21,
   "metadata": {},
   "outputs": [
    {
     "data": {
      "text/html": [
       "<div>\n",
       "<style scoped>\n",
       "    .dataframe tbody tr th:only-of-type {\n",
       "        vertical-align: middle;\n",
       "    }\n",
       "\n",
       "    .dataframe tbody tr th {\n",
       "        vertical-align: top;\n",
       "    }\n",
       "\n",
       "    .dataframe thead th {\n",
       "        text-align: right;\n",
       "    }\n",
       "</style>\n",
       "<table border=\"1\" class=\"dataframe\">\n",
       "  <thead>\n",
       "    <tr style=\"text-align: right;\">\n",
       "      <th></th>\n",
       "      <th>Open</th>\n",
       "      <th>Close</th>\n",
       "      <th>x0</th>\n",
       "    </tr>\n",
       "    <tr>\n",
       "      <th>Date</th>\n",
       "      <th></th>\n",
       "      <th></th>\n",
       "      <th></th>\n",
       "    </tr>\n",
       "  </thead>\n",
       "  <tbody>\n",
       "    <tr>\n",
       "      <th>2015-01-01</th>\n",
       "      <td>438.988831</td>\n",
       "      <td>439.781311</td>\n",
       "      <td>1.0</td>\n",
       "    </tr>\n",
       "    <tr>\n",
       "      <th>2015-01-02</th>\n",
       "      <td>439.880371</td>\n",
       "      <td>438.617340</td>\n",
       "      <td>1.0</td>\n",
       "    </tr>\n",
       "    <tr>\n",
       "      <th>2015-01-05</th>\n",
       "      <td>438.344940</td>\n",
       "      <td>433.812897</td>\n",
       "      <td>1.0</td>\n",
       "    </tr>\n",
       "    <tr>\n",
       "      <th>2015-01-06</th>\n",
       "      <td>430.915344</td>\n",
       "      <td>414.124512</td>\n",
       "      <td>1.0</td>\n",
       "    </tr>\n",
       "    <tr>\n",
       "      <th>2015-01-07</th>\n",
       "      <td>414.619812</td>\n",
       "      <td>423.139069</td>\n",
       "      <td>1.0</td>\n",
       "    </tr>\n",
       "  </tbody>\n",
       "</table>\n",
       "</div>"
      ],
      "text/plain": [
       "                  Open       Close   x0\n",
       "Date                                   \n",
       "2015-01-01  438.988831  439.781311  1.0\n",
       "2015-01-02  439.880371  438.617340  1.0\n",
       "2015-01-05  438.344940  433.812897  1.0\n",
       "2015-01-06  430.915344  414.124512  1.0\n",
       "2015-01-07  414.619812  423.139069  1.0"
      ]
     },
     "execution_count": 21,
     "metadata": {},
     "output_type": "execute_result"
    }
   ],
   "source": [
    "df=dp.drop_data(df)\n",
    "df.head()"
   ]
  },
  {
   "cell_type": "code",
   "execution_count": 22,
   "metadata": {},
   "outputs": [
    {
     "data": {
      "text/plain": [
       "<AxesSubplot:xlabel='Date'>"
      ]
     },
     "execution_count": 22,
     "metadata": {},
     "output_type": "execute_result"
    },
    {
     "data": {
      "image/png": "[encoded data removed]",
      "text/plain": [
       "<Figure size 576x288 with 1 Axes>"
      ]
     },
     "metadata": {
      "needs_background": "light"
     },
     "output_type": "display_data"
    }
   ],
   "source": [
    "df[\"Close\"].plot(figsize=(8,4))"
   ]
  },
  {
   "cell_type": "code",
   "execution_count": 23,
   "metadata": {},
   "outputs": [],
   "source": [
    "min_close=df[\"Close\"].min()\n",
    "max_close=df[\"Close\"].max()"
   ]
  },
  {
   "cell_type": "code",
   "execution_count": 24,
   "metadata": {},
   "outputs": [
    {
     "data": {
      "text/html": [
       "<div>\n",
       "<style scoped>\n",
       "    .dataframe tbody tr th:only-of-type {\n",
       "        vertical-align: middle;\n",
       "    }\n",
       "\n",
       "    .dataframe tbody tr th {\n",
       "        vertical-align: top;\n",
       "    }\n",
       "\n",
       "    .dataframe thead th {\n",
       "        text-align: right;\n",
       "    }\n",
       "</style>\n",
       "<table border=\"1\" class=\"dataframe\">\n",
       "  <thead>\n",
       "    <tr style=\"text-align: right;\">\n",
       "      <th></th>\n",
       "      <th>Open</th>\n",
       "      <th>Close</th>\n",
       "      <th>x0</th>\n",
       "    </tr>\n",
       "    <tr>\n",
       "      <th>Date</th>\n",
       "      <th></th>\n",
       "      <th></th>\n",
       "      <th></th>\n",
       "    </tr>\n",
       "  </thead>\n",
       "  <tbody>\n",
       "    <tr>\n",
       "      <th>2015-01-01</th>\n",
       "      <td>0.014764</td>\n",
       "      <td>0.016398</td>\n",
       "      <td>1.0</td>\n",
       "    </tr>\n",
       "    <tr>\n",
       "      <th>2015-01-02</th>\n",
       "      <td>0.015145</td>\n",
       "      <td>0.015899</td>\n",
       "      <td>1.0</td>\n",
       "    </tr>\n",
       "    <tr>\n",
       "      <th>2015-01-05</th>\n",
       "      <td>0.014489</td>\n",
       "      <td>0.013837</td>\n",
       "      <td>1.0</td>\n",
       "    </tr>\n",
       "    <tr>\n",
       "      <th>2015-01-06</th>\n",
       "      <td>0.011311</td>\n",
       "      <td>0.005388</td>\n",
       "      <td>1.0</td>\n",
       "    </tr>\n",
       "    <tr>\n",
       "      <th>2015-01-07</th>\n",
       "      <td>0.004342</td>\n",
       "      <td>0.009257</td>\n",
       "      <td>1.0</td>\n",
       "    </tr>\n",
       "  </tbody>\n",
       "</table>\n",
       "</div>"
      ],
      "text/plain": [
       "                Open     Close   x0\n",
       "Date                               \n",
       "2015-01-01  0.014764  0.016398  1.0\n",
       "2015-01-02  0.015145  0.015899  1.0\n",
       "2015-01-05  0.014489  0.013837  1.0\n",
       "2015-01-06  0.011311  0.005388  1.0\n",
       "2015-01-07  0.004342  0.009257  1.0"
      ]
     },
     "execution_count": 24,
     "metadata": {},
     "output_type": "execute_result"
    }
   ],
   "source": [
    "#normalize\n",
    "df=dp.min_max(df)\n",
    "df.head()"
   ]
  },
  {
   "cell_type": "code",
   "execution_count": 25,
   "metadata": {},
   "outputs": [
    {
     "data": {
      "text/html": [
       "<div>\n",
       "<style scoped>\n",
       "    .dataframe tbody tr th:only-of-type {\n",
       "        vertical-align: middle;\n",
       "    }\n",
       "\n",
       "    .dataframe tbody tr th {\n",
       "        vertical-align: top;\n",
       "    }\n",
       "\n",
       "    .dataframe thead th {\n",
       "        text-align: right;\n",
       "    }\n",
       "</style>\n",
       "<table border=\"1\" class=\"dataframe\">\n",
       "  <thead>\n",
       "    <tr style=\"text-align: right;\">\n",
       "      <th></th>\n",
       "      <th>Open</th>\n",
       "      <th>Close</th>\n",
       "      <th>x0</th>\n",
       "      <th>EMA</th>\n",
       "    </tr>\n",
       "    <tr>\n",
       "      <th>Date</th>\n",
       "      <th></th>\n",
       "      <th></th>\n",
       "      <th></th>\n",
       "      <th></th>\n",
       "    </tr>\n",
       "  </thead>\n",
       "  <tbody>\n",
       "    <tr>\n",
       "      <th>2015-01-02</th>\n",
       "      <td>0.015145</td>\n",
       "      <td>0.015899</td>\n",
       "      <td>1.0</td>\n",
       "      <td>0.016398</td>\n",
       "    </tr>\n",
       "    <tr>\n",
       "      <th>2015-01-05</th>\n",
       "      <td>0.014489</td>\n",
       "      <td>0.013837</td>\n",
       "      <td>1.0</td>\n",
       "      <td>0.016351</td>\n",
       "    </tr>\n",
       "    <tr>\n",
       "      <th>2015-01-06</th>\n",
       "      <td>0.011311</td>\n",
       "      <td>0.005388</td>\n",
       "      <td>1.0</td>\n",
       "      <td>0.016111</td>\n",
       "    </tr>\n",
       "    <tr>\n",
       "      <th>2015-01-07</th>\n",
       "      <td>0.004342</td>\n",
       "      <td>0.009257</td>\n",
       "      <td>1.0</td>\n",
       "      <td>0.015090</td>\n",
       "    </tr>\n",
       "    <tr>\n",
       "      <th>2015-01-08</th>\n",
       "      <td>0.009214</td>\n",
       "      <td>0.006653</td>\n",
       "      <td>1.0</td>\n",
       "      <td>0.014535</td>\n",
       "    </tr>\n",
       "  </tbody>\n",
       "</table>\n",
       "</div>"
      ],
      "text/plain": [
       "                Open     Close   x0       EMA\n",
       "Date                                         \n",
       "2015-01-02  0.015145  0.015899  1.0  0.016398\n",
       "2015-01-05  0.014489  0.013837  1.0  0.016351\n",
       "2015-01-06  0.011311  0.005388  1.0  0.016111\n",
       "2015-01-07  0.004342  0.009257  1.0  0.015090\n",
       "2015-01-08  0.009214  0.006653  1.0  0.014535"
      ]
     },
     "execution_count": 25,
     "metadata": {},
     "output_type": "execute_result"
    }
   ],
   "source": [
    "df[\"EMA\"] = f.EMA(df[\"Close\"])\n",
    "df['EMA'] = df['EMA'].shift(1)\n",
    "df=df.dropna()\n",
    "df.head()"
   ]
  },
  {
   "cell_type": "code",
   "execution_count": 26,
   "metadata": {},
   "outputs": [
    {
     "data": {
      "text/plain": [
       "<function matplotlib.pyplot.show(close=None, block=None)>"
      ]
     },
     "execution_count": 26,
     "metadata": {},
     "output_type": "execute_result"
    },
    {
     "data": {
      "image/png": "[encoded data removed]",
      "text/plain": [
       "<Figure size 432x288 with 1 Axes>"
      ]
     },
     "metadata": {
      "needs_background": "light"
     },
     "output_type": "display_data"
    }
   ],
   "source": [
    "plt.plot(df[\"EMA\"],label=\"EMA of Close\")\n",
    "plt.plot(df[\"Close\"],label=\"Close\")\n",
    "plt.legend()\n",
    "plt.show"
   ]
  },
  {
   "cell_type": "code",
   "execution_count": 27,
   "metadata": {},
   "outputs": [
    {
     "data": {
      "text/plain": [
       "<AxesSubplot:xlabel='Date'>"
      ]
     },
     "execution_count": 27,
     "metadata": {},
     "output_type": "execute_result"
    },
    {
     "data": {
      "image/png": "[encoded data removed]",
      "text/plain": [
       "<Figure size 576x288 with 1 Axes>"
      ]
     },
     "metadata": {
      "needs_background": "light"
     },
     "output_type": "display_data"
    }
   ],
   "source": [
    "df[\"EMA\"].plot(figsize=(8,4))\n"
   ]
  },
  {
   "cell_type": "code",
   "execution_count": 28,
   "metadata": {},
   "outputs": [
    {
     "name": "stdout",
     "output_type": "stream",
     "text": [
      "             Close      x0\n",
      "count  1709.000000  1709.0\n",
      "mean      0.311750     1.0\n",
      "std       0.267927     0.0\n",
      "min       0.000000     1.0\n",
      "25%       0.047675     1.0\n",
      "50%       0.244764     1.0\n",
      "75%       0.470919     1.0\n",
      "max       1.000000     1.0 \n",
      "\n",
      "            Close    x0\n",
      "count  18.000000  18.0\n",
      "mean    0.848819   1.0\n",
      "std     0.019143   0.0\n",
      "min     0.804959   1.0\n",
      "25%     0.842771   1.0\n",
      "50%     0.846006   1.0\n",
      "75%     0.859116   1.0\n",
      "max     0.882890   1.0\n"
     ]
    },
    {
     "data": {
      "text/html": [
       "<div>\n",
       "<style scoped>\n",
       "    .dataframe tbody tr th:only-of-type {\n",
       "        vertical-align: middle;\n",
       "    }\n",
       "\n",
       "    .dataframe tbody tr th {\n",
       "        vertical-align: top;\n",
       "    }\n",
       "\n",
       "    .dataframe thead th {\n",
       "        text-align: right;\n",
       "    }\n",
       "</style>\n",
       "<table border=\"1\" class=\"dataframe\">\n",
       "  <thead>\n",
       "    <tr style=\"text-align: right;\">\n",
       "      <th></th>\n",
       "      <th>Close</th>\n",
       "      <th>x0</th>\n",
       "    </tr>\n",
       "    <tr>\n",
       "      <th>Date</th>\n",
       "      <th></th>\n",
       "      <th></th>\n",
       "    </tr>\n",
       "  </thead>\n",
       "  <tbody>\n",
       "    <tr>\n",
       "      <th>2015-01-02</th>\n",
       "      <td>0.015899</td>\n",
       "      <td>1.0</td>\n",
       "    </tr>\n",
       "    <tr>\n",
       "      <th>2015-01-05</th>\n",
       "      <td>0.013837</td>\n",
       "      <td>1.0</td>\n",
       "    </tr>\n",
       "    <tr>\n",
       "      <th>2015-01-06</th>\n",
       "      <td>0.005388</td>\n",
       "      <td>1.0</td>\n",
       "    </tr>\n",
       "    <tr>\n",
       "      <th>2015-01-07</th>\n",
       "      <td>0.009257</td>\n",
       "      <td>1.0</td>\n",
       "    </tr>\n",
       "    <tr>\n",
       "      <th>2015-01-08</th>\n",
       "      <td>0.006653</td>\n",
       "      <td>1.0</td>\n",
       "    </tr>\n",
       "  </tbody>\n",
       "</table>\n",
       "</div>"
      ],
      "text/plain": [
       "               Close   x0\n",
       "Date                     \n",
       "2015-01-02  0.015899  1.0\n",
       "2015-01-05  0.013837  1.0\n",
       "2015-01-06  0.005388  1.0\n",
       "2015-01-07  0.009257  1.0\n",
       "2015-01-08  0.006653  1.0"
      ]
     },
     "execution_count": 28,
     "metadata": {},
     "output_type": "execute_result"
    }
   ],
   "source": [
    "train_x,test_x,train_y,test_y=train_test_split(df.loc[:,[\"Close\",\"x0\"]],df[\"EMA\"],test_size=0.01,shuffle=False)\n",
    "print(train_x.describe(),\"\\n\\n\",test_x.describe())\n",
    "train_x.head()"
   ]
  },
  {
   "cell_type": "code",
   "execution_count": 29,
   "metadata": {},
   "outputs": [
    {
     "data": {
      "text/plain": [
       "array([ 5.17076818, -2.69006357])"
      ]
     },
     "execution_count": 29,
     "metadata": {},
     "output_type": "execute_result"
    }
   ],
   "source": [
    "w=f.logistic_regression(train_x,train_y,0.01,100)\n",
    "w"
   ]
  },
  {
   "cell_type": "code",
   "execution_count": 30,
   "metadata": {},
   "outputs": [
    {
     "name": "stdout",
     "output_type": "stream",
     "text": [
      "training data loss:  762.5446764063686\n"
     ]
    }
   ],
   "source": [
    "print(\"training data loss: \",f.loss1(train_x,train_y,w))\n"
   ]
  },
  {
   "cell_type": "code",
   "execution_count": 31,
   "metadata": {},
   "outputs": [
    {
     "data": {
      "text/html": [
       "<div>\n",
       "<style scoped>\n",
       "    .dataframe tbody tr th:only-of-type {\n",
       "        vertical-align: middle;\n",
       "    }\n",
       "\n",
       "    .dataframe tbody tr th {\n",
       "        vertical-align: top;\n",
       "    }\n",
       "\n",
       "    .dataframe thead th {\n",
       "        text-align: right;\n",
       "    }\n",
       "</style>\n",
       "<table border=\"1\" class=\"dataframe\">\n",
       "  <thead>\n",
       "    <tr style=\"text-align: right;\">\n",
       "      <th></th>\n",
       "      <th>EMA</th>\n",
       "      <th>pred</th>\n",
       "    </tr>\n",
       "    <tr>\n",
       "      <th>Date</th>\n",
       "      <th></th>\n",
       "      <th></th>\n",
       "    </tr>\n",
       "  </thead>\n",
       "  <tbody>\n",
       "    <tr>\n",
       "      <th>2021-12-08</th>\n",
       "      <td>0.879991</td>\n",
       "      <td>0.856253</td>\n",
       "    </tr>\n",
       "    <tr>\n",
       "      <th>2021-12-09</th>\n",
       "      <td>0.878598</td>\n",
       "      <td>0.866413</td>\n",
       "    </tr>\n",
       "    <tr>\n",
       "      <th>2021-12-10</th>\n",
       "      <td>0.878904</td>\n",
       "      <td>0.867054</td>\n",
       "    </tr>\n",
       "    <tr>\n",
       "      <th>2021-12-13</th>\n",
       "      <td>0.879284</td>\n",
       "      <td>0.853930</td>\n",
       "    </tr>\n",
       "    <tr>\n",
       "      <th>2021-12-14</th>\n",
       "      <td>0.877612</td>\n",
       "      <td>0.845574</td>\n",
       "    </tr>\n",
       "  </tbody>\n",
       "</table>\n",
       "</div>"
      ],
      "text/plain": [
       "                 EMA      pred\n",
       "Date                          \n",
       "2021-12-08  0.879991  0.856253\n",
       "2021-12-09  0.878598  0.866413\n",
       "2021-12-10  0.878904  0.867054\n",
       "2021-12-13  0.879284  0.853930\n",
       "2021-12-14  0.877612  0.845574"
      ]
     },
     "execution_count": 31,
     "metadata": {},
     "output_type": "execute_result"
    }
   ],
   "source": [
    "y_pred=f.sigmoid(np.dot(test_x,w))\n",
    "d1=pd.DataFrame(test_y)\n",
    "d1[\"pred\"]=y_pred\n",
    "d1.head()"
   ]
  },
  {
   "cell_type": "code",
   "execution_count": 32,
   "metadata": {},
   "outputs": [
    {
     "data": {
      "text/plain": [
       "7.145739012627361"
      ]
     },
     "execution_count": 32,
     "metadata": {},
     "output_type": "execute_result"
    }
   ],
   "source": [
    "loss=f.loss(test_y,y_pred)\n",
    "loss"
   ]
  },
  {
   "cell_type": "code",
   "execution_count": 33,
   "metadata": {},
   "outputs": [
    {
     "data": {
      "image/png": "[encoded data removed]",
      "text/plain": [
       "<Figure size 432x288 with 1 Axes>"
      ]
     },
     "metadata": {
      "needs_background": "light"
     },
     "output_type": "display_data"
    }
   ],
   "source": [
    "plt.plot(d1[\"pred\"],label=\"pred\")\n",
    "plt.plot(d1[\"EMA\"],label=\"actual\")\n",
    "plt.legend()\n",
    "plt.show()"
   ]
  },
  {
   "cell_type": "code",
   "execution_count": 34,
   "metadata": {},
   "outputs": [
    {
     "data": {
      "text/html": [
       "<div>\n",
       "<style scoped>\n",
       "    .dataframe tbody tr th:only-of-type {\n",
       "        vertical-align: middle;\n",
       "    }\n",
       "\n",
       "    .dataframe tbody tr th {\n",
       "        vertical-align: top;\n",
       "    }\n",
       "\n",
       "    .dataframe thead th {\n",
       "        text-align: right;\n",
       "    }\n",
       "</style>\n",
       "<table border=\"1\" class=\"dataframe\">\n",
       "  <thead>\n",
       "    <tr style=\"text-align: right;\">\n",
       "      <th></th>\n",
       "      <th>EMA</th>\n",
       "      <th>pred</th>\n",
       "      <th>EMA_unnormalized</th>\n",
       "      <th>pred_EMA</th>\n",
       "    </tr>\n",
       "    <tr>\n",
       "      <th>Date</th>\n",
       "      <th></th>\n",
       "      <th></th>\n",
       "      <th></th>\n",
       "      <th></th>\n",
       "    </tr>\n",
       "  </thead>\n",
       "  <tbody>\n",
       "    <tr>\n",
       "      <th>2021-12-08</th>\n",
       "      <td>0.879991</td>\n",
       "      <td>0.856253</td>\n",
       "      <td>0.878598</td>\n",
       "      <td>0.866413</td>\n",
       "    </tr>\n",
       "    <tr>\n",
       "      <th>2021-12-09</th>\n",
       "      <td>0.878598</td>\n",
       "      <td>0.866413</td>\n",
       "      <td>0.878904</td>\n",
       "      <td>0.867054</td>\n",
       "    </tr>\n",
       "    <tr>\n",
       "      <th>2021-12-10</th>\n",
       "      <td>0.878904</td>\n",
       "      <td>0.867054</td>\n",
       "      <td>0.879284</td>\n",
       "      <td>0.853930</td>\n",
       "    </tr>\n",
       "    <tr>\n",
       "      <th>2021-12-13</th>\n",
       "      <td>0.879284</td>\n",
       "      <td>0.853930</td>\n",
       "      <td>0.877612</td>\n",
       "      <td>0.845574</td>\n",
       "    </tr>\n",
       "    <tr>\n",
       "      <th>2021-12-14</th>\n",
       "      <td>0.877612</td>\n",
       "      <td>0.845574</td>\n",
       "      <td>0.874894</td>\n",
       "      <td>0.843550</td>\n",
       "    </tr>\n",
       "  </tbody>\n",
       "</table>\n",
       "</div>"
      ],
      "text/plain": [
       "                 EMA      pred  EMA_unnormalized  pred_EMA\n",
       "Date                                                      \n",
       "2021-12-08  0.879991  0.856253          0.878598  0.866413\n",
       "2021-12-09  0.878598  0.866413          0.878904  0.867054\n",
       "2021-12-10  0.878904  0.867054          0.879284  0.853930\n",
       "2021-12-13  0.879284  0.853930          0.877612  0.845574\n",
       "2021-12-14  0.877612  0.845574          0.874894  0.843550"
      ]
     },
     "execution_count": 34,
     "metadata": {},
     "output_type": "execute_result"
    }
   ],
   "source": [
    "d1=dp.denormalize_ema(d1,min_close,max_close,1)\n",
    "d1.head()"
   ]
  },
  {
   "cell_type": "code",
   "execution_count": 35,
   "metadata": {},
   "outputs": [
    {
     "data": {
      "text/html": [
       "<div>\n",
       "<style scoped>\n",
       "    .dataframe tbody tr th:only-of-type {\n",
       "        vertical-align: middle;\n",
       "    }\n",
       "\n",
       "    .dataframe tbody tr th {\n",
       "        vertical-align: top;\n",
       "    }\n",
       "\n",
       "    .dataframe thead th {\n",
       "        text-align: right;\n",
       "    }\n",
       "</style>\n",
       "<table border=\"1\" class=\"dataframe\">\n",
       "  <thead>\n",
       "    <tr style=\"text-align: right;\">\n",
       "      <th></th>\n",
       "      <th>EMA</th>\n",
       "      <th>pred</th>\n",
       "      <th>EMA_unnormalized</th>\n",
       "      <th>pred_EMA</th>\n",
       "      <th>Open</th>\n",
       "      <th>Close</th>\n",
       "    </tr>\n",
       "    <tr>\n",
       "      <th>Date</th>\n",
       "      <th></th>\n",
       "      <th></th>\n",
       "      <th></th>\n",
       "      <th></th>\n",
       "      <th></th>\n",
       "      <th></th>\n",
       "    </tr>\n",
       "  </thead>\n",
       "  <tbody>\n",
       "    <tr>\n",
       "      <th>2021-12-08</th>\n",
       "      <td>0.879991</td>\n",
       "      <td>0.856253</td>\n",
       "      <td>0.878598</td>\n",
       "      <td>0.866413</td>\n",
       "      <td>0.863725</td>\n",
       "      <td>0.865360</td>\n",
       "    </tr>\n",
       "    <tr>\n",
       "      <th>2021-12-09</th>\n",
       "      <td>0.878598</td>\n",
       "      <td>0.866413</td>\n",
       "      <td>0.878904</td>\n",
       "      <td>0.867054</td>\n",
       "      <td>0.868386</td>\n",
       "      <td>0.881817</td>\n",
       "    </tr>\n",
       "    <tr>\n",
       "      <th>2021-12-10</th>\n",
       "      <td>0.878904</td>\n",
       "      <td>0.867054</td>\n",
       "      <td>0.879284</td>\n",
       "      <td>0.853930</td>\n",
       "      <td>0.870632</td>\n",
       "      <td>0.882890</td>\n",
       "    </tr>\n",
       "    <tr>\n",
       "      <th>2021-12-13</th>\n",
       "      <td>0.879284</td>\n",
       "      <td>0.853930</td>\n",
       "      <td>0.877612</td>\n",
       "      <td>0.845574</td>\n",
       "      <td>0.884851</td>\n",
       "      <td>0.861733</td>\n",
       "    </tr>\n",
       "    <tr>\n",
       "      <th>2021-12-14</th>\n",
       "      <td>0.877612</td>\n",
       "      <td>0.845574</td>\n",
       "      <td>0.874894</td>\n",
       "      <td>0.843550</td>\n",
       "      <td>0.844865</td>\n",
       "      <td>0.849074</td>\n",
       "    </tr>\n",
       "  </tbody>\n",
       "</table>\n",
       "</div>"
      ],
      "text/plain": [
       "                 EMA      pred  EMA_unnormalized  pred_EMA      Open     Close\n",
       "Date                                                                          \n",
       "2021-12-08  0.879991  0.856253          0.878598  0.866413  0.863725  0.865360\n",
       "2021-12-09  0.878598  0.866413          0.878904  0.867054  0.868386  0.881817\n",
       "2021-12-10  0.878904  0.867054          0.879284  0.853930  0.870632  0.882890\n",
       "2021-12-13  0.879284  0.853930          0.877612  0.845574  0.884851  0.861733\n",
       "2021-12-14  0.877612  0.845574          0.874894  0.843550  0.844865  0.849074"
      ]
     },
     "execution_count": 35,
     "metadata": {},
     "output_type": "execute_result"
    }
   ],
   "source": [
    "d1[\"Open\"]=df1.loc[d1.index,[\"Open\"]]\n",
    "d1[\"Close\"]=df1.loc[d1.index,[\"Close\"]]\n",
    "d1.head()"
   ]
  },
  {
   "cell_type": "code",
   "execution_count": 36,
   "metadata": {},
   "outputs": [
    {
     "name": "stdout",
     "output_type": "stream",
     "text": [
      "accuracy of our model:  33.12737546818357 %\n",
      "---------------------------------------------\n",
      "profit our model expect:  0.22806273338352256\n",
      "profit we actually made:  0.055694498714161766\n",
      "maximum profit that is possible:  0.16812227931443668\n",
      "percentage of profit we made:  24.420692450661328 %\n",
      "profit that we can make if we always buy:  0.0264169246638698\n",
      "profit that we can make if we always sell:  -0.0264169246638698\n",
      "confusion matrix:  [[3 2]\n",
      " [5 7]]\n"
     ]
    }
   ],
   "source": [
    "l.evaluate_ema(d1)"
   ]
  },
  {
   "cell_type": "code",
   "execution_count": null,
   "metadata": {},
   "outputs": [],
   "source": []
  }
 ],
 "metadata": {
  "interpreter": {
   "hash": "b3ba2566441a7c06988d0923437866b63cedc61552a5af99d1f4fb67d367b25f"
  },
  "kernelspec": {
   "display_name": "Python 3.8.8 ('base')",
   "language": "python",
   "name": "python3"
  },
  "language_info": {
   "codemirror_mode": {
    "name": "ipython",
    "version": 3
   },
   "file_extension": ".py",
   "mimetype": "text/x-python",
   "name": "python",
   "nbconvert_exporter": "python",
   "pygments_lexer": "ipython3",
   "version": "3.8.8"
  },
  "orig_nbformat": 4
 },
 "nbformat": 4,
 "nbformat_minor": 2
}
